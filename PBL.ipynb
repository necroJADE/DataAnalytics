{
  "nbformat": 4,
  "nbformat_minor": 0,
  "metadata": {
    "colab": {
      "provenance": [],
      "include_colab_link": true
    },
    "kernelspec": {
      "name": "python3",
      "display_name": "Python 3"
    },
    "language_info": {
      "name": "python"
    }
  },
  "cells": [
    {
      "cell_type": "markdown",
      "metadata": {
        "id": "view-in-github",
        "colab_type": "text"
      },
      "source": [
        "<a href=\"https://colab.research.google.com/github/necroJADE/DataAnalytics/blob/main/PBL.ipynb\" target=\"_parent\"><img src=\"https://colab.research.google.com/assets/colab-badge.svg\" alt=\"Open In Colab\"/></a>"
      ]
    },
    {
      "cell_type": "code",
      "metadata": {
        "id": "x1pkVN3w1xfH"
      },
      "source": [
        "import pandas as pd\n",
        "import numpy as np\n",
        "\n"
      ],
      "execution_count": null,
      "outputs": []
    },
    {
      "cell_type": "code",
      "metadata": {
        "id": "kJBRPMRc13tY"
      },
      "source": [
        "\n",
        "# read the data in a pandas dataframe\n",
        "data = pd.read_csv(\"weather.csv\")\n",
        "\n"
      ],
      "execution_count": null,
      "outputs": []
    },
    {
      "cell_type": "code",
      "metadata": {
        "id": "WtR0IpYx15xp"
      },
      "source": [
        "\n",
        "# drop or delete the unnecessary columns in the data.\n",
        "data = data.drop(['Events', 'Date', 'SeaLevelPressureHighInches',\n",
        "                  'SeaLevelPressureLowInches'], axis = 1)\n",
        "\n"
      ],
      "execution_count": null,
      "outputs": []
    },
    {
      "cell_type": "code",
      "metadata": {
        "id": "jH7Psg9w1-5z"
      },
      "source": [
        "\n",
        "# some values have 'T' which denotes trace rainfall\n",
        "# we need to replace all occurrences of T with 0\n",
        "# so that we can use the data in our model\n",
        "data = data.replace('T', 0.0)\n"
      ],
      "execution_count": null,
      "outputs": []
    },
    {
      "cell_type": "code",
      "metadata": {
        "id": "UEaqJtpy2Ajc"
      },
      "source": [
        "\n",
        "\n",
        "# the data also contains '-' which indicates no\n",
        "# or NIL. This means that data is not available\n",
        "# we need to replace these values as well.\n",
        "data = data.replace('-', 0.0)\n",
        "\n"
      ],
      "execution_count": null,
      "outputs": []
    },
    {
      "cell_type": "code",
      "metadata": {
        "id": "8mektYjw2Cs9"
      },
      "source": [
        "\n",
        "\n",
        "# save the data in a csv file\n",
        "data.to_csv('final.csv')"
      ],
      "execution_count": null,
      "outputs": []
    },
    {
      "cell_type": "code",
      "metadata": {
        "colab": {
          "base_uri": "https://localhost:8080/",
          "height": 224
        },
        "id": "ymqIGdis2KNh",
        "outputId": "bc6f44f6-d88f-46fe-a420-1bb15d8ad4c6"
      },
      "source": [
        "data.head()\n"
      ],
      "execution_count": null,
      "outputs": [
        {
          "output_type": "execute_result",
          "data": {
            "text/html": [
              "<div>\n",
              "<style scoped>\n",
              "    .dataframe tbody tr th:only-of-type {\n",
              "        vertical-align: middle;\n",
              "    }\n",
              "\n",
              "    .dataframe tbody tr th {\n",
              "        vertical-align: top;\n",
              "    }\n",
              "\n",
              "    .dataframe thead th {\n",
              "        text-align: right;\n",
              "    }\n",
              "</style>\n",
              "<table border=\"1\" class=\"dataframe\">\n",
              "  <thead>\n",
              "    <tr style=\"text-align: right;\">\n",
              "      <th></th>\n",
              "      <th>TempHighF</th>\n",
              "      <th>TempAvgF</th>\n",
              "      <th>TempLowF</th>\n",
              "      <th>DewPointHighF</th>\n",
              "      <th>DewPointAvgF</th>\n",
              "      <th>DewPointLowF</th>\n",
              "      <th>HumidityHighPercent</th>\n",
              "      <th>HumidityAvgPercent</th>\n",
              "      <th>HumidityLowPercent</th>\n",
              "      <th>SeaLevelPressureAvgInches</th>\n",
              "      <th>VisibilityHighMiles</th>\n",
              "      <th>VisibilityAvgMiles</th>\n",
              "      <th>VisibilityLowMiles</th>\n",
              "      <th>WindHighMPH</th>\n",
              "      <th>WindAvgMPH</th>\n",
              "      <th>WindGustMPH</th>\n",
              "      <th>PrecipitationSumInches</th>\n",
              "    </tr>\n",
              "  </thead>\n",
              "  <tbody>\n",
              "    <tr>\n",
              "      <th>0</th>\n",
              "      <td>74</td>\n",
              "      <td>60</td>\n",
              "      <td>45</td>\n",
              "      <td>67</td>\n",
              "      <td>49</td>\n",
              "      <td>43</td>\n",
              "      <td>93</td>\n",
              "      <td>75</td>\n",
              "      <td>57</td>\n",
              "      <td>29.68</td>\n",
              "      <td>10</td>\n",
              "      <td>7</td>\n",
              "      <td>2</td>\n",
              "      <td>20</td>\n",
              "      <td>4</td>\n",
              "      <td>31</td>\n",
              "      <td>0.46</td>\n",
              "    </tr>\n",
              "    <tr>\n",
              "      <th>1</th>\n",
              "      <td>56</td>\n",
              "      <td>48</td>\n",
              "      <td>39</td>\n",
              "      <td>43</td>\n",
              "      <td>36</td>\n",
              "      <td>28</td>\n",
              "      <td>93</td>\n",
              "      <td>68</td>\n",
              "      <td>43</td>\n",
              "      <td>30.13</td>\n",
              "      <td>10</td>\n",
              "      <td>10</td>\n",
              "      <td>5</td>\n",
              "      <td>16</td>\n",
              "      <td>6</td>\n",
              "      <td>25</td>\n",
              "      <td>0</td>\n",
              "    </tr>\n",
              "    <tr>\n",
              "      <th>2</th>\n",
              "      <td>58</td>\n",
              "      <td>45</td>\n",
              "      <td>32</td>\n",
              "      <td>31</td>\n",
              "      <td>27</td>\n",
              "      <td>23</td>\n",
              "      <td>76</td>\n",
              "      <td>52</td>\n",
              "      <td>27</td>\n",
              "      <td>30.49</td>\n",
              "      <td>10</td>\n",
              "      <td>10</td>\n",
              "      <td>10</td>\n",
              "      <td>8</td>\n",
              "      <td>3</td>\n",
              "      <td>12</td>\n",
              "      <td>0</td>\n",
              "    </tr>\n",
              "    <tr>\n",
              "      <th>3</th>\n",
              "      <td>61</td>\n",
              "      <td>46</td>\n",
              "      <td>31</td>\n",
              "      <td>36</td>\n",
              "      <td>28</td>\n",
              "      <td>21</td>\n",
              "      <td>89</td>\n",
              "      <td>56</td>\n",
              "      <td>22</td>\n",
              "      <td>30.45</td>\n",
              "      <td>10</td>\n",
              "      <td>10</td>\n",
              "      <td>7</td>\n",
              "      <td>12</td>\n",
              "      <td>4</td>\n",
              "      <td>20</td>\n",
              "      <td>0</td>\n",
              "    </tr>\n",
              "    <tr>\n",
              "      <th>4</th>\n",
              "      <td>58</td>\n",
              "      <td>50</td>\n",
              "      <td>41</td>\n",
              "      <td>44</td>\n",
              "      <td>40</td>\n",
              "      <td>36</td>\n",
              "      <td>86</td>\n",
              "      <td>71</td>\n",
              "      <td>56</td>\n",
              "      <td>30.33</td>\n",
              "      <td>10</td>\n",
              "      <td>10</td>\n",
              "      <td>7</td>\n",
              "      <td>10</td>\n",
              "      <td>2</td>\n",
              "      <td>16</td>\n",
              "      <td>0</td>\n",
              "    </tr>\n",
              "  </tbody>\n",
              "</table>\n",
              "</div>"
            ],
            "text/plain": [
              "   TempHighF  TempAvgF  TempLowF  ... WindAvgMPH WindGustMPH PrecipitationSumInches\n",
              "0         74        60        45  ...          4          31                   0.46\n",
              "1         56        48        39  ...          6          25                      0\n",
              "2         58        45        32  ...          3          12                      0\n",
              "3         61        46        31  ...          4          20                      0\n",
              "4         58        50        41  ...          2          16                      0\n",
              "\n",
              "[5 rows x 17 columns]"
            ]
          },
          "metadata": {},
          "execution_count": 8
        }
      ]
    },
    {
      "cell_type": "code",
      "metadata": {
        "id": "kd48NXrE2ejy"
      },
      "source": [
        "import sklearn as sk\n",
        "from sklearn.linear_model import LinearRegression\n",
        "import matplotlib.pyplot as plt\n",
        "\n"
      ],
      "execution_count": null,
      "outputs": []
    },
    {
      "cell_type": "code",
      "metadata": {
        "id": "_8gE4Dlz2iz8"
      },
      "source": [
        "import sklearn as sk\n",
        "from sklearn.linear_model import LinearRegression\n",
        "import matplotlib.pyplot as plt\n",
        "\n",
        "# read the cleaned data\n",
        "data = pd.read_csv(\"final.csv\")\n",
        "\n",
        "# the features or the 'x' values of the data\n",
        "# these columns are used to train the model\n",
        "# the last column, i.e, precipitation column\n",
        "# will serve as the label\n",
        "X = data.drop(['PrecipitationSumInches'], axis = 1)\n",
        "\n",
        "# the output or the label.\n",
        "Y = data['PrecipitationSumInches']\n",
        "# reshaping it into a 2-D vector\n",
        "Y = Y.values.reshape(-1, 1)\n",
        "\n",
        "# consider a random day in the dataset\n",
        "# we shall plot a graph and observe this\n",
        "# day\n",
        "day_index = 798\n",
        "days = [i for i in range(Y.size)]\n",
        "\n"
      ],
      "execution_count": null,
      "outputs": []
    },
    {
      "cell_type": "code",
      "metadata": {
        "colab": {
          "base_uri": "https://localhost:8080/"
        },
        "id": "lUmUMd_k2pCP",
        "outputId": "9affbb96-42d0-4514-cbc7-7f6e5c51cf7e"
      },
      "source": [
        "\n",
        "\n",
        "# initialize a linear regression classifier\n",
        "clf = LinearRegression()\n",
        "# train the classifier with our\n",
        "# input data.\n",
        "clf.fit(X, Y)\n",
        "\n",
        "# give a sample input to test our model\n",
        "# this is a 2-D vector that contains values\n",
        "# for each column in the dataset.\n",
        "inp = np.array([[74], [60], [45], [67], [49], [43], [33], [45],\n",
        "                [57], [29.68], [10], [7], [2], [0], [20], [4], [31]])\n",
        "inp = inp.reshape(1, -1)\n",
        "\n",
        "# print the output.\n",
        "print('The precipitation in inches for the input is:', clf.predict(inp))\n",
        "\n"
      ],
      "execution_count": null,
      "outputs": [
        {
          "output_type": "stream",
          "name": "stdout",
          "text": [
            "The precipitation in inches for the input is: [[1.33868402]]\n"
          ]
        }
      ]
    },
    {
      "cell_type": "code",
      "metadata": {
        "colab": {
          "base_uri": "https://localhost:8080/",
          "height": 299
        },
        "id": "5yCXRX-V2uma",
        "outputId": "32dc06b0-4c0c-440c-e34c-49a023f8269a"
      },
      "source": [
        "\n",
        "# plot a graph of the precipitation levels\n",
        "# versus the total number of days.\n",
        "# one day, which is in red, is\n",
        "# tracked here. It has a precipitation\n",
        "# of approx. 2 inches.\n",
        "print(\"the precipitation trend graph: \")\n",
        "plt.scatter(days, Y, color = 'g')\n"
      ],
      "execution_count": null,
      "outputs": [
        {
          "output_type": "stream",
          "name": "stdout",
          "text": [
            "the precipitation trend graph: \n"
          ]
        },
        {
          "output_type": "execute_result",
          "data": {
            "text/plain": [
              "<matplotlib.collections.PathCollection at 0x7f3b4b51cd50>"
            ]
          },
          "metadata": {},
          "execution_count": 12
        },
        {
          "output_type": "display_data",
          "data": {
            "image/png": "[encoded data removed]",
            "text/plain": [
              "<Figure size 432x288 with 1 Axes>"
            ]
          },
          "metadata": {
            "needs_background": "light"
          }
        }
      ]
    },
    {
      "cell_type": "code",
      "metadata": {
        "colab": {
          "base_uri": "https://localhost:8080/",
          "height": 298
        },
        "id": "Pbal4oof23Ku",
        "outputId": "24cce623-df22-4675-bdc4-aaa6f2f3eb5f"
      },
      "source": [
        "plt.scatter(days[day_index], Y[day_index], color ='r')\n",
        "plt.title(\"Precipitation level\")\n"
      ],
      "execution_count": null,
      "outputs": [
        {
          "output_type": "execute_result",
          "data": {
            "text/plain": [
              "Text(0.5, 1.0, 'Precipitation level')"
            ]
          },
          "metadata": {},
          "execution_count": 13
        },
        {
          "output_type": "display_data",
          "data": {
            "image/png": "[encoded data removed]",
            "text/plain": [
              "<Figure size 432x288 with 1 Axes>"
            ]
          },
          "metadata": {
            "needs_background": "light"
          }
        }
      ]
    },
    {
      "cell_type": "code",
      "metadata": {
        "colab": {
          "base_uri": "https://localhost:8080/",
          "height": 300
        },
        "id": "EZf2-9kh26yn",
        "outputId": "5d125582-5298-480e-e729-c0f460a50b18"
      },
      "source": [
        "plt.xlabel(\"Days\")\n",
        "plt.ylabel(\"Precipitation in inches\")\n",
        "\n",
        "\n"
      ],
      "execution_count": null,
      "outputs": [
        {
          "output_type": "execute_result",
          "data": {
            "text/plain": [
              "Text(0, 0.5, 'Precipitation in inches')"
            ]
          },
          "metadata": {},
          "execution_count": 14
        },
        {
          "output_type": "display_data",
          "data": {
            "image/png": "[encoded data removed]",
            "text/plain": [
              "<Figure size 432x288 with 1 Axes>"
            ]
          },
          "metadata": {
            "needs_background": "light"
          }
        }
      ]
    },
    {
      "cell_type": "code",
      "metadata": {
        "id": "lImwas7k2_ji"
      },
      "source": [
        "plt.show()\n",
        "x_vis = X.filter(['TempAvgF', 'DewPointAvgF', 'HumidityAvgPercent',\n",
        "                  'SeaLevelPressureAvgInches', 'VisibilityAvgMiles',\n",
        "                  'WindAvgMPH'], axis = 1)\n",
        "\n",
        "\n"
      ],
      "execution_count": null,
      "outputs": []
    },
    {
      "cell_type": "code",
      "metadata": {
        "colab": {
          "base_uri": "https://localhost:8080/",
          "height": 298
        },
        "id": "rdjLq9PE3BoL",
        "outputId": "4d4236f8-d47c-47d8-cd08-f3b8c39a7f3e"
      },
      "source": [
        "# plot a graph with a few features (x values)\n",
        "# against the precipitation or rainfall to observe\n",
        "# the trends\n",
        "\n",
        "print(\"Precipitation vs selected attributes graph: \")\n",
        "\n",
        "for i in range(x_vis.columns.size):\n",
        "    plt.subplot(3, 2, i + 1)\n",
        "    plt.scatter(days, x_vis[x_vis.columns.values[i][:100]],\n",
        "                                               color = 'b')\n",
        "\n",
        "    plt.scatter(days[day_index],\n",
        "                x_vis[x_vis.columns.values[i]][day_index],\n",
        "                color ='r')\n",
        "\n",
        "    plt.title(x_vis.columns.values[i])\n",
        ""
      ],
      "execution_count": null,
      "outputs": [
        {
          "output_type": "stream",
          "name": "stdout",
          "text": [
            "Precipitation vs selected attributes graph: \n"
          ]
        },
        {
          "output_type": "display_data",
          "data": {
            "image/png": "[encoded data removed]",
            "text/plain": [
              "<Figure size 432x288 with 6 Axes>"
            ]
          },
          "metadata": {
            "needs_background": "light"
          }
        }
      ]
    },
    {
      "cell_type": "code",
      "metadata": {
        "id": "LCUr9ak63Hy2"
      },
      "source": [],
      "execution_count": null,
      "outputs": []
    }
  ]
}