{
  "nbformat": 4,
  "nbformat_minor": 0,
  "metadata": {
    "colab": {
      "provenance": []
    },
    "kernelspec": {
      "display_name": "Python 3",
      "language": "python",
      "name": "python3"
    },
    "language_info": {
      "codemirror_mode": {
        "name": "ipython",
        "version": 3
      },
      "file_extension": ".py",
      "mimetype": "text/x-python",
      "name": "python",
      "nbconvert_exporter": "python",
      "pygments_lexer": "ipython3",
      "version": "3.7.4"
    }
  },
  "cells": [
    {
      "cell_type": "markdown",
      "metadata": {
        "id": "2PopYzjVrEju"
      },
      "source": [
        "# ***Data for BTC-USD***"
      ]
    },
    {
      "cell_type": "code",
      "metadata": {
        "colab": {
          "base_uri": "https://localhost:8080/"
        },
        "id": "VM6evN3xEK72",
        "outputId": "d1e96e6d-fee1-4e90-8b04-1d03f6cfb67a"
      },
      "source": [
        "from google.colab import drive\n",
        "drive.mount('/content/drive')"
      ],
      "execution_count": null,
      "outputs": [
        {
          "output_type": "stream",
          "name": "stdout",
          "text": [
            "Drive already mounted at /content/drive; to attempt to forcibly remount, call drive.mount(\"/content/drive\", force_remount=True).\n"
          ]
        }
      ]
    },
    {
      "cell_type": "code",
      "metadata": {
        "id": "156nkoCAEPig"
      },
      "source": [
        "folder='../content/drive/MyDrive/Machine Learning/Projects/Crypto/Data/' #<---Kunal"
      ],
      "execution_count": null,
      "outputs": []
    },
    {
      "cell_type": "code",
      "metadata": {
        "id": "pmyh3ZTOmiGR"
      },
      "source": [
        "import numpy as np\n",
        "import matplotlib.pyplot as plt\n",
        "import pandas as pd\n",
        "from sklearn.preprocessing import MinMaxScaler"
      ],
      "execution_count": null,
      "outputs": []
    },
    {
      "cell_type": "code",
      "metadata": {
        "colab": {
          "base_uri": "https://localhost:8080/",
          "height": 203
        },
        "id": "aJTokDh3miGV",
        "outputId": "bb66aecc-df8a-4525-c165-14acb0e52422"
      },
      "source": [
        "data = pd.read_csv(folder + 'BTC-USD.csv', date_parser = True)\n",
        "data=data.dropna()\n",
        "data.tail()"
      ],
      "execution_count": null,
      "outputs": [
        {
          "output_type": "execute_result",
          "data": {
            "text/html": [
              "<div>\n",
              "<style scoped>\n",
              "    .dataframe tbody tr th:only-of-type {\n",
              "        vertical-align: middle;\n",
              "    }\n",
              "\n",
              "    .dataframe tbody tr th {\n",
              "        vertical-align: top;\n",
              "    }\n",
              "\n",
              "    .dataframe thead th {\n",
              "        text-align: right;\n",
              "    }\n",
              "</style>\n",
              "<table border=\"1\" class=\"dataframe\">\n",
              "  <thead>\n",
              "    <tr style=\"text-align: right;\">\n",
              "      <th></th>\n",
              "      <th>Date</th>\n",
              "      <th>Open</th>\n",
              "      <th>High</th>\n",
              "      <th>Low</th>\n",
              "      <th>Close</th>\n",
              "      <th>Adj Close</th>\n",
              "      <th>Volume</th>\n",
              "    </tr>\n",
              "  </thead>\n",
              "  <tbody>\n",
              "    <tr>\n",
              "      <th>1822</th>\n",
              "      <td>2021-10-02</td>\n",
              "      <td>48137.468750</td>\n",
              "      <td>48282.062500</td>\n",
              "      <td>47465.496094</td>\n",
              "      <td>47711.488281</td>\n",
              "      <td>47711.488281</td>\n",
              "      <td>3.061435e+10</td>\n",
              "    </tr>\n",
              "    <tr>\n",
              "      <th>1823</th>\n",
              "      <td>2021-10-03</td>\n",
              "      <td>47680.027344</td>\n",
              "      <td>49130.691406</td>\n",
              "      <td>47157.289063</td>\n",
              "      <td>48199.953125</td>\n",
              "      <td>48199.953125</td>\n",
              "      <td>2.663812e+10</td>\n",
              "    </tr>\n",
              "    <tr>\n",
              "      <th>1824</th>\n",
              "      <td>2021-10-04</td>\n",
              "      <td>48208.906250</td>\n",
              "      <td>49456.777344</td>\n",
              "      <td>47045.003906</td>\n",
              "      <td>49112.902344</td>\n",
              "      <td>49112.902344</td>\n",
              "      <td>3.338317e+10</td>\n",
              "    </tr>\n",
              "    <tr>\n",
              "      <th>1825</th>\n",
              "      <td>2021-10-05</td>\n",
              "      <td>49174.960938</td>\n",
              "      <td>51839.984375</td>\n",
              "      <td>49072.839844</td>\n",
              "      <td>51514.812500</td>\n",
              "      <td>51514.812500</td>\n",
              "      <td>3.587390e+10</td>\n",
              "    </tr>\n",
              "    <tr>\n",
              "      <th>1826</th>\n",
              "      <td>2021-10-06</td>\n",
              "      <td>51434.535156</td>\n",
              "      <td>52474.187500</td>\n",
              "      <td>50543.000000</td>\n",
              "      <td>52453.710938</td>\n",
              "      <td>52453.710938</td>\n",
              "      <td>4.122978e+10</td>\n",
              "    </tr>\n",
              "  </tbody>\n",
              "</table>\n",
              "</div>"
            ],
            "text/plain": [
              "            Date          Open  ...     Adj Close        Volume\n",
              "1822  2021-10-02  48137.468750  ...  47711.488281  3.061435e+10\n",
              "1823  2021-10-03  47680.027344  ...  48199.953125  2.663812e+10\n",
              "1824  2021-10-04  48208.906250  ...  49112.902344  3.338317e+10\n",
              "1825  2021-10-05  49174.960938  ...  51514.812500  3.587390e+10\n",
              "1826  2021-10-06  51434.535156  ...  52453.710938  4.122978e+10\n",
              "\n",
              "[5 rows x 7 columns]"
            ]
          },
          "metadata": {},
          "execution_count": 39
        }
      ]
    },
    {
      "cell_type": "markdown",
      "metadata": {
        "id": "fySQldForbND"
      },
      "source": [
        "# ***PreProcessing***"
      ]
    },
    {
      "cell_type": "code",
      "metadata": {
        "colab": {
          "base_uri": "https://localhost:8080/",
          "height": 417
        },
        "id": "b-2lapeTmiGW",
        "outputId": "c2407118-585a-41fa-90ee-df347dc6cf05"
      },
      "source": [
        "data_training = data[data['Date'] <'2021-07-01'].copy()\n",
        "data_training"
      ],
      "execution_count": null,
      "outputs": [
        {
          "output_type": "execute_result",
          "data": {
            "text/html": [
              "<div>\n",
              "<style scoped>\n",
              "    .dataframe tbody tr th:only-of-type {\n",
              "        vertical-align: middle;\n",
              "    }\n",
              "\n",
              "    .dataframe tbody tr th {\n",
              "        vertical-align: top;\n",
              "    }\n",
              "\n",
              "    .dataframe thead th {\n",
              "        text-align: right;\n",
              "    }\n",
              "</style>\n",
              "<table border=\"1\" class=\"dataframe\">\n",
              "  <thead>\n",
              "    <tr style=\"text-align: right;\">\n",
              "      <th></th>\n",
              "      <th>Date</th>\n",
              "      <th>Open</th>\n",
              "      <th>High</th>\n",
              "      <th>Low</th>\n",
              "      <th>Close</th>\n",
              "      <th>Adj Close</th>\n",
              "      <th>Volume</th>\n",
              "    </tr>\n",
              "  </thead>\n",
              "  <tbody>\n",
              "    <tr>\n",
              "      <th>0</th>\n",
              "      <td>2016-10-06</td>\n",
              "      <td>612.469971</td>\n",
              "      <td>613.818970</td>\n",
              "      <td>611.468994</td>\n",
              "      <td>613.020996</td>\n",
              "      <td>613.020996</td>\n",
              "      <td>5.681210e+07</td>\n",
              "    </tr>\n",
              "    <tr>\n",
              "      <th>1</th>\n",
              "      <td>2016-10-07</td>\n",
              "      <td>612.607971</td>\n",
              "      <td>617.911987</td>\n",
              "      <td>611.820984</td>\n",
              "      <td>617.120972</td>\n",
              "      <td>617.120972</td>\n",
              "      <td>6.407140e+07</td>\n",
              "    </tr>\n",
              "    <tr>\n",
              "      <th>2</th>\n",
              "      <td>2016-10-08</td>\n",
              "      <td>617.341003</td>\n",
              "      <td>619.848999</td>\n",
              "      <td>617.341003</td>\n",
              "      <td>619.107971</td>\n",
              "      <td>619.107971</td>\n",
              "      <td>4.234590e+07</td>\n",
              "    </tr>\n",
              "    <tr>\n",
              "      <th>3</th>\n",
              "      <td>2016-10-09</td>\n",
              "      <td>619.171997</td>\n",
              "      <td>619.197998</td>\n",
              "      <td>616.606995</td>\n",
              "      <td>616.752014</td>\n",
              "      <td>616.752014</td>\n",
              "      <td>3.924340e+07</td>\n",
              "    </tr>\n",
              "    <tr>\n",
              "      <th>4</th>\n",
              "      <td>2016-10-10</td>\n",
              "      <td>616.822021</td>\n",
              "      <td>621.317993</td>\n",
              "      <td>616.197021</td>\n",
              "      <td>618.994019</td>\n",
              "      <td>618.994019</td>\n",
              "      <td>6.748110e+07</td>\n",
              "    </tr>\n",
              "    <tr>\n",
              "      <th>...</th>\n",
              "      <td>...</td>\n",
              "      <td>...</td>\n",
              "      <td>...</td>\n",
              "      <td>...</td>\n",
              "      <td>...</td>\n",
              "      <td>...</td>\n",
              "      <td>...</td>\n",
              "    </tr>\n",
              "    <tr>\n",
              "      <th>1724</th>\n",
              "      <td>2021-06-26</td>\n",
              "      <td>31594.664063</td>\n",
              "      <td>32637.587891</td>\n",
              "      <td>30184.501953</td>\n",
              "      <td>32186.277344</td>\n",
              "      <td>32186.277344</td>\n",
              "      <td>3.858539e+10</td>\n",
              "    </tr>\n",
              "    <tr>\n",
              "      <th>1725</th>\n",
              "      <td>2021-06-27</td>\n",
              "      <td>32287.523438</td>\n",
              "      <td>34656.128906</td>\n",
              "      <td>32071.757813</td>\n",
              "      <td>34649.644531</td>\n",
              "      <td>34649.644531</td>\n",
              "      <td>3.551164e+10</td>\n",
              "    </tr>\n",
              "    <tr>\n",
              "      <th>1726</th>\n",
              "      <td>2021-06-28</td>\n",
              "      <td>34679.121094</td>\n",
              "      <td>35219.890625</td>\n",
              "      <td>33902.074219</td>\n",
              "      <td>34434.335938</td>\n",
              "      <td>34434.335938</td>\n",
              "      <td>3.389252e+10</td>\n",
              "    </tr>\n",
              "    <tr>\n",
              "      <th>1727</th>\n",
              "      <td>2021-06-29</td>\n",
              "      <td>34475.558594</td>\n",
              "      <td>36542.109375</td>\n",
              "      <td>34252.484375</td>\n",
              "      <td>35867.777344</td>\n",
              "      <td>35867.777344</td>\n",
              "      <td>3.790146e+10</td>\n",
              "    </tr>\n",
              "    <tr>\n",
              "      <th>1728</th>\n",
              "      <td>2021-06-30</td>\n",
              "      <td>35908.386719</td>\n",
              "      <td>36074.757813</td>\n",
              "      <td>34086.152344</td>\n",
              "      <td>35040.835938</td>\n",
              "      <td>35040.835938</td>\n",
              "      <td>3.405904e+10</td>\n",
              "    </tr>\n",
              "  </tbody>\n",
              "</table>\n",
              "<p>1725 rows × 7 columns</p>\n",
              "</div>"
            ],
            "text/plain": [
              "            Date          Open  ...     Adj Close        Volume\n",
              "0     2016-10-06    612.469971  ...    613.020996  5.681210e+07\n",
              "1     2016-10-07    612.607971  ...    617.120972  6.407140e+07\n",
              "2     2016-10-08    617.341003  ...    619.107971  4.234590e+07\n",
              "3     2016-10-09    619.171997  ...    616.752014  3.924340e+07\n",
              "4     2016-10-10    616.822021  ...    618.994019  6.748110e+07\n",
              "...          ...           ...  ...           ...           ...\n",
              "1724  2021-06-26  31594.664063  ...  32186.277344  3.858539e+10\n",
              "1725  2021-06-27  32287.523438  ...  34649.644531  3.551164e+10\n",
              "1726  2021-06-28  34679.121094  ...  34434.335938  3.389252e+10\n",
              "1727  2021-06-29  34475.558594  ...  35867.777344  3.790146e+10\n",
              "1728  2021-06-30  35908.386719  ...  35040.835938  3.405904e+10\n",
              "\n",
              "[1725 rows x 7 columns]"
            ]
          },
          "metadata": {},
          "execution_count": 40
        }
      ]
    },
    {
      "cell_type": "code",
      "metadata": {
        "colab": {
          "base_uri": "https://localhost:8080/",
          "height": 417
        },
        "id": "p9YqoUyLmiGW",
        "outputId": "3db43a82-a526-4d45-92a7-2e1030d9b295"
      },
      "source": [
        "data_test = data[data['Date']> '2021-07-01'].copy()\n",
        "data_test"
      ],
      "execution_count": null,
      "outputs": [
        {
          "output_type": "execute_result",
          "data": {
            "text/html": [
              "<div>\n",
              "<style scoped>\n",
              "    .dataframe tbody tr th:only-of-type {\n",
              "        vertical-align: middle;\n",
              "    }\n",
              "\n",
              "    .dataframe tbody tr th {\n",
              "        vertical-align: top;\n",
              "    }\n",
              "\n",
              "    .dataframe thead th {\n",
              "        text-align: right;\n",
              "    }\n",
              "</style>\n",
              "<table border=\"1\" class=\"dataframe\">\n",
              "  <thead>\n",
              "    <tr style=\"text-align: right;\">\n",
              "      <th></th>\n",
              "      <th>Date</th>\n",
              "      <th>Open</th>\n",
              "      <th>High</th>\n",
              "      <th>Low</th>\n",
              "      <th>Close</th>\n",
              "      <th>Adj Close</th>\n",
              "      <th>Volume</th>\n",
              "    </tr>\n",
              "  </thead>\n",
              "  <tbody>\n",
              "    <tr>\n",
              "      <th>1730</th>\n",
              "      <td>2021-07-02</td>\n",
              "      <td>33549.601563</td>\n",
              "      <td>33939.589844</td>\n",
              "      <td>32770.679688</td>\n",
              "      <td>33897.046875</td>\n",
              "      <td>33897.046875</td>\n",
              "      <td>3.872897e+10</td>\n",
              "    </tr>\n",
              "    <tr>\n",
              "      <th>1731</th>\n",
              "      <td>2021-07-03</td>\n",
              "      <td>33854.421875</td>\n",
              "      <td>34909.261719</td>\n",
              "      <td>33402.695313</td>\n",
              "      <td>34668.546875</td>\n",
              "      <td>34668.546875</td>\n",
              "      <td>2.438396e+10</td>\n",
              "    </tr>\n",
              "    <tr>\n",
              "      <th>1732</th>\n",
              "      <td>2021-07-04</td>\n",
              "      <td>34665.566406</td>\n",
              "      <td>35937.566406</td>\n",
              "      <td>34396.476563</td>\n",
              "      <td>35287.781250</td>\n",
              "      <td>35287.781250</td>\n",
              "      <td>2.492431e+10</td>\n",
              "    </tr>\n",
              "    <tr>\n",
              "      <th>1733</th>\n",
              "      <td>2021-07-05</td>\n",
              "      <td>35284.343750</td>\n",
              "      <td>35284.343750</td>\n",
              "      <td>33213.660156</td>\n",
              "      <td>33746.003906</td>\n",
              "      <td>33746.003906</td>\n",
              "      <td>2.672155e+10</td>\n",
              "    </tr>\n",
              "    <tr>\n",
              "      <th>1734</th>\n",
              "      <td>2021-07-06</td>\n",
              "      <td>33723.507813</td>\n",
              "      <td>35038.535156</td>\n",
              "      <td>33599.917969</td>\n",
              "      <td>34235.195313</td>\n",
              "      <td>34235.195313</td>\n",
              "      <td>2.650126e+10</td>\n",
              "    </tr>\n",
              "    <tr>\n",
              "      <th>...</th>\n",
              "      <td>...</td>\n",
              "      <td>...</td>\n",
              "      <td>...</td>\n",
              "      <td>...</td>\n",
              "      <td>...</td>\n",
              "      <td>...</td>\n",
              "      <td>...</td>\n",
              "    </tr>\n",
              "    <tr>\n",
              "      <th>1822</th>\n",
              "      <td>2021-10-02</td>\n",
              "      <td>48137.468750</td>\n",
              "      <td>48282.062500</td>\n",
              "      <td>47465.496094</td>\n",
              "      <td>47711.488281</td>\n",
              "      <td>47711.488281</td>\n",
              "      <td>3.061435e+10</td>\n",
              "    </tr>\n",
              "    <tr>\n",
              "      <th>1823</th>\n",
              "      <td>2021-10-03</td>\n",
              "      <td>47680.027344</td>\n",
              "      <td>49130.691406</td>\n",
              "      <td>47157.289063</td>\n",
              "      <td>48199.953125</td>\n",
              "      <td>48199.953125</td>\n",
              "      <td>2.663812e+10</td>\n",
              "    </tr>\n",
              "    <tr>\n",
              "      <th>1824</th>\n",
              "      <td>2021-10-04</td>\n",
              "      <td>48208.906250</td>\n",
              "      <td>49456.777344</td>\n",
              "      <td>47045.003906</td>\n",
              "      <td>49112.902344</td>\n",
              "      <td>49112.902344</td>\n",
              "      <td>3.338317e+10</td>\n",
              "    </tr>\n",
              "    <tr>\n",
              "      <th>1825</th>\n",
              "      <td>2021-10-05</td>\n",
              "      <td>49174.960938</td>\n",
              "      <td>51839.984375</td>\n",
              "      <td>49072.839844</td>\n",
              "      <td>51514.812500</td>\n",
              "      <td>51514.812500</td>\n",
              "      <td>3.587390e+10</td>\n",
              "    </tr>\n",
              "    <tr>\n",
              "      <th>1826</th>\n",
              "      <td>2021-10-06</td>\n",
              "      <td>51434.535156</td>\n",
              "      <td>52474.187500</td>\n",
              "      <td>50543.000000</td>\n",
              "      <td>52453.710938</td>\n",
              "      <td>52453.710938</td>\n",
              "      <td>4.122978e+10</td>\n",
              "    </tr>\n",
              "  </tbody>\n",
              "</table>\n",
              "<p>97 rows × 7 columns</p>\n",
              "</div>"
            ],
            "text/plain": [
              "            Date          Open  ...     Adj Close        Volume\n",
              "1730  2021-07-02  33549.601563  ...  33897.046875  3.872897e+10\n",
              "1731  2021-07-03  33854.421875  ...  34668.546875  2.438396e+10\n",
              "1732  2021-07-04  34665.566406  ...  35287.781250  2.492431e+10\n",
              "1733  2021-07-05  35284.343750  ...  33746.003906  2.672155e+10\n",
              "1734  2021-07-06  33723.507813  ...  34235.195313  2.650126e+10\n",
              "...          ...           ...  ...           ...           ...\n",
              "1822  2021-10-02  48137.468750  ...  47711.488281  3.061435e+10\n",
              "1823  2021-10-03  47680.027344  ...  48199.953125  2.663812e+10\n",
              "1824  2021-10-04  48208.906250  ...  49112.902344  3.338317e+10\n",
              "1825  2021-10-05  49174.960938  ...  51514.812500  3.587390e+10\n",
              "1826  2021-10-06  51434.535156  ...  52453.710938  4.122978e+10\n",
              "\n",
              "[97 rows x 7 columns]"
            ]
          },
          "metadata": {},
          "execution_count": 41
        }
      ]
    },
    {
      "cell_type": "code",
      "metadata": {
        "colab": {
          "base_uri": "https://localhost:8080/",
          "height": 203
        },
        "id": "Ze8WHT8wmiGX",
        "outputId": "a217c17e-bb2e-49cd-cdc2-7e40be4a1b99"
      },
      "source": [
        "training_data = data_training.drop(['Date', 'Adj Close'], axis = 1)\n",
        "training_data.head()"
      ],
      "execution_count": null,
      "outputs": [
        {
          "output_type": "execute_result",
          "data": {
            "text/html": [
              "<div>\n",
              "<style scoped>\n",
              "    .dataframe tbody tr th:only-of-type {\n",
              "        vertical-align: middle;\n",
              "    }\n",
              "\n",
              "    .dataframe tbody tr th {\n",
              "        vertical-align: top;\n",
              "    }\n",
              "\n",
              "    .dataframe thead th {\n",
              "        text-align: right;\n",
              "    }\n",
              "</style>\n",
              "<table border=\"1\" class=\"dataframe\">\n",
              "  <thead>\n",
              "    <tr style=\"text-align: right;\">\n",
              "      <th></th>\n",
              "      <th>Open</th>\n",
              "      <th>High</th>\n",
              "      <th>Low</th>\n",
              "      <th>Close</th>\n",
              "      <th>Volume</th>\n",
              "    </tr>\n",
              "  </thead>\n",
              "  <tbody>\n",
              "    <tr>\n",
              "      <th>0</th>\n",
              "      <td>612.469971</td>\n",
              "      <td>613.818970</td>\n",
              "      <td>611.468994</td>\n",
              "      <td>613.020996</td>\n",
              "      <td>56812100.0</td>\n",
              "    </tr>\n",
              "    <tr>\n",
              "      <th>1</th>\n",
              "      <td>612.607971</td>\n",
              "      <td>617.911987</td>\n",
              "      <td>611.820984</td>\n",
              "      <td>617.120972</td>\n",
              "      <td>64071400.0</td>\n",
              "    </tr>\n",
              "    <tr>\n",
              "      <th>2</th>\n",
              "      <td>617.341003</td>\n",
              "      <td>619.848999</td>\n",
              "      <td>617.341003</td>\n",
              "      <td>619.107971</td>\n",
              "      <td>42345900.0</td>\n",
              "    </tr>\n",
              "    <tr>\n",
              "      <th>3</th>\n",
              "      <td>619.171997</td>\n",
              "      <td>619.197998</td>\n",
              "      <td>616.606995</td>\n",
              "      <td>616.752014</td>\n",
              "      <td>39243400.0</td>\n",
              "    </tr>\n",
              "    <tr>\n",
              "      <th>4</th>\n",
              "      <td>616.822021</td>\n",
              "      <td>621.317993</td>\n",
              "      <td>616.197021</td>\n",
              "      <td>618.994019</td>\n",
              "      <td>67481104.0</td>\n",
              "    </tr>\n",
              "  </tbody>\n",
              "</table>\n",
              "</div>"
            ],
            "text/plain": [
              "         Open        High         Low       Close      Volume\n",
              "0  612.469971  613.818970  611.468994  613.020996  56812100.0\n",
              "1  612.607971  617.911987  611.820984  617.120972  64071400.0\n",
              "2  617.341003  619.848999  617.341003  619.107971  42345900.0\n",
              "3  619.171997  619.197998  616.606995  616.752014  39243400.0\n",
              "4  616.822021  621.317993  616.197021  618.994019  67481104.0"
            ]
          },
          "metadata": {},
          "execution_count": 42
        }
      ]
    },
    {
      "cell_type": "code",
      "metadata": {
        "colab": {
          "base_uri": "https://localhost:8080/"
        },
        "id": "Zs2alMLPmiGX",
        "outputId": "5995b35a-c61e-4b25-df84-446234bc13f3"
      },
      "source": [
        "scaler = MinMaxScaler()\n",
        "training_data = scaler.fit_transform(training_data)\n",
        "training_data"
      ],
      "execution_count": null,
      "outputs": [
        {
          "output_type": "execute_result",
          "data": {
            "text/plain": [
              "array([[0.00000000e+00, 0.00000000e+00, 0.00000000e+00, 0.00000000e+00,\n",
              "        5.06561292e-05],\n",
              "       [2.19356515e-06, 6.37052599e-05, 5.71435568e-06, 6.51923608e-05,\n",
              "        7.13420854e-05],\n",
              "       [7.74270003e-05, 9.38536451e-05, 9.53286967e-05, 9.67869740e-05,\n",
              "        9.43353466e-06],\n",
              "       ...,\n",
              "       [5.41503034e-01, 5.38621948e-01, 5.40453873e-01, 5.37781530e-01,\n",
              "        9.64682241e-02],\n",
              "       [5.38267327e-01, 5.59201459e-01, 5.46142581e-01, 5.60574208e-01,\n",
              "        1.07892009e-01],\n",
              "       [5.61042702e-01, 5.51927423e-01, 5.43442276e-01, 5.47425286e-01,\n",
              "        9.69427143e-02]])"
            ]
          },
          "metadata": {},
          "execution_count": 43
        }
      ]
    },
    {
      "cell_type": "code",
      "metadata": {
        "id": "Sb4ikFoqmiGY"
      },
      "source": [
        "X_train = []\n",
        "Y_train = []"
      ],
      "execution_count": null,
      "outputs": []
    },
    {
      "cell_type": "code",
      "metadata": {
        "colab": {
          "base_uri": "https://localhost:8080/"
        },
        "id": "Yjp97HGumiGY",
        "outputId": "6c2cfe6c-babb-4fe0-f2f6-7ad97547864f"
      },
      "source": [
        "training_data.shape[0]"
      ],
      "execution_count": null,
      "outputs": [
        {
          "output_type": "execute_result",
          "data": {
            "text/plain": [
              "1725"
            ]
          },
          "metadata": {},
          "execution_count": 45
        }
      ]
    },
    {
      "cell_type": "code",
      "metadata": {
        "id": "tEpKeU1omiGZ"
      },
      "source": [
        "for i in range(60, training_data.shape[0]):\n",
        "    X_train.append(training_data[i-60:i])\n",
        "    Y_train.append(training_data[i,0])"
      ],
      "execution_count": null,
      "outputs": []
    },
    {
      "cell_type": "code",
      "metadata": {
        "id": "coydOxL1miGa"
      },
      "source": [
        "X_train, Y_train = np.array(X_train), np.array(Y_train)"
      ],
      "execution_count": null,
      "outputs": []
    },
    {
      "cell_type": "code",
      "metadata": {
        "colab": {
          "base_uri": "https://localhost:8080/"
        },
        "id": "7NpZr9HymiGa",
        "outputId": "503c16a2-e5e4-4cc8-b600-3f08e743d6e5"
      },
      "source": [
        "X_train.shape"
      ],
      "execution_count": null,
      "outputs": [
        {
          "output_type": "execute_result",
          "data": {
            "text/plain": [
              "(1665, 60, 5)"
            ]
          },
          "metadata": {},
          "execution_count": 48
        }
      ]
    },
    {
      "cell_type": "markdown",
      "metadata": {
        "id": "mulUYB91miGa"
      },
      "source": [
        "# ***Building LSTM***"
      ]
    },
    {
      "cell_type": "code",
      "metadata": {
        "id": "Ovg29B1gmiGc"
      },
      "source": [
        "from tensorflow.keras import Sequential\n",
        "from tensorflow.keras.layers import Dense, LSTM, Dropout"
      ],
      "execution_count": null,
      "outputs": []
    },
    {
      "cell_type": "code",
      "metadata": {
        "id": "wc3Bir2VmiGc"
      },
      "source": [
        "regressor = Sequential()\n",
        "regressor.add(LSTM(units = 50, activation = 'relu', return_sequences = True, input_shape = (X_train.shape[1], 5)))\n",
        "regressor.add(Dropout(0.2))"
      ],
      "execution_count": null,
      "outputs": []
    },
    {
      "cell_type": "code",
      "metadata": {
        "id": "k3BhNGvGmiGc"
      },
      "source": [
        "regressor.add(LSTM(units = 60, activation = 'relu', return_sequences = True))\n",
        "regressor.add(Dropout(0.3))\n",
        "\n",
        "regressor.add(LSTM(units = 80, activation = 'relu', return_sequences = True))\n",
        "regressor.add(Dropout(0.4))\n",
        "\n",
        "regressor.add(LSTM(units = 120, activation = 'relu'))\n",
        "regressor.add(Dropout(0.5))\n",
        "\n",
        "regressor.add(Dense(units=1))"
      ],
      "execution_count": null,
      "outputs": []
    },
    {
      "cell_type": "code",
      "metadata": {
        "colab": {
          "base_uri": "https://localhost:8080/"
        },
        "id": "9dFM9OsHmiGd",
        "outputId": "35757e37-cbd8-4779-c868-fb76ff53ee5e"
      },
      "source": [
        "regressor.summary()"
      ],
      "execution_count": null,
      "outputs": [
        {
          "output_type": "stream",
          "name": "stdout",
          "text": [
            "Model: \"sequential_1\"\n",
            "_________________________________________________________________\n",
            "Layer (type)                 Output Shape              Param #   \n",
            "=================================================================\n",
            "lstm_4 (LSTM)                (None, 60, 50)            11200     \n",
            "_________________________________________________________________\n",
            "dropout_4 (Dropout)          (None, 60, 50)            0         \n",
            "_________________________________________________________________\n",
            "lstm_5 (LSTM)                (None, 60, 60)            26640     \n",
            "_________________________________________________________________\n",
            "dropout_5 (Dropout)          (None, 60, 60)            0         \n",
            "_________________________________________________________________\n",
            "lstm_6 (LSTM)                (None, 60, 80)            45120     \n",
            "_________________________________________________________________\n",
            "dropout_6 (Dropout)          (None, 60, 80)            0         \n",
            "_________________________________________________________________\n",
            "lstm_7 (LSTM)                (None, 120)               96480     \n",
            "_________________________________________________________________\n",
            "dropout_7 (Dropout)          (None, 120)               0         \n",
            "_________________________________________________________________\n",
            "dense_1 (Dense)              (None, 1)                 121       \n",
            "=================================================================\n",
            "Total params: 179,561\n",
            "Trainable params: 179,561\n",
            "Non-trainable params: 0\n",
            "_________________________________________________________________\n"
          ]
        }
      ]
    },
    {
      "cell_type": "code",
      "metadata": {
        "id": "mY7FwOwQmiGd"
      },
      "source": [
        "regressor.compile(optimizer = 'adam', loss = 'mean_squared_error')"
      ],
      "execution_count": null,
      "outputs": []
    },
    {
      "cell_type": "code",
      "metadata": {
        "colab": {
          "base_uri": "https://localhost:8080/"
        },
        "id": "dlTos9y8miGd",
        "outputId": "9ce8813a-89f2-46a8-83b3-b11ddd651178"
      },
      "source": [
        "regressor.fit(X_train, Y_train, epochs = 20, batch_size =50)"
      ],
      "execution_count": null,
      "outputs": [
        {
          "output_type": "stream",
          "name": "stdout",
          "text": [
            "Epoch 1/20\n",
            "34/34 [==============================] - 12s 210ms/step - loss: 0.0191\n",
            "Epoch 2/20\n",
            "34/34 [==============================] - 7s 210ms/step - loss: 0.0059\n",
            "Epoch 3/20\n",
            "34/34 [==============================] - 7s 208ms/step - loss: 0.0043\n",
            "Epoch 4/20\n",
            "34/34 [==============================] - 7s 210ms/step - loss: 0.0034\n",
            "Epoch 5/20\n",
            "34/34 [==============================] - 7s 210ms/step - loss: 0.0042\n",
            "Epoch 6/20\n",
            "34/34 [==============================] - 7s 209ms/step - loss: 0.0042\n",
            "Epoch 7/20\n",
            "34/34 [==============================] - 7s 210ms/step - loss: 0.0037\n",
            "Epoch 8/20\n",
            "34/34 [==============================] - 7s 209ms/step - loss: 0.0035\n",
            "Epoch 9/20\n",
            "34/34 [==============================] - 7s 210ms/step - loss: 0.0030\n",
            "Epoch 10/20\n",
            "34/34 [==============================] - 7s 210ms/step - loss: 0.0032\n",
            "Epoch 11/20\n",
            "34/34 [==============================] - 7s 210ms/step - loss: 0.0029\n",
            "Epoch 12/20\n",
            "34/34 [==============================] - 7s 210ms/step - loss: 0.0030\n",
            "Epoch 13/20\n",
            "34/34 [==============================] - 7s 210ms/step - loss: 0.0031\n",
            "Epoch 14/20\n",
            "34/34 [==============================] - 7s 210ms/step - loss: 0.0033\n",
            "Epoch 15/20\n",
            "34/34 [==============================] - 7s 209ms/step - loss: 0.0029\n",
            "Epoch 16/20\n",
            "34/34 [==============================] - 7s 212ms/step - loss: 0.0027\n",
            "Epoch 17/20\n",
            "34/34 [==============================] - 7s 210ms/step - loss: 0.0020\n",
            "Epoch 18/20\n",
            "34/34 [==============================] - 7s 211ms/step - loss: 0.0026\n",
            "Epoch 19/20\n",
            "34/34 [==============================] - 7s 212ms/step - loss: 0.0024\n",
            "Epoch 20/20\n",
            "34/34 [==============================] - 7s 210ms/step - loss: 0.0023\n"
          ]
        },
        {
          "output_type": "execute_result",
          "data": {
            "text/plain": [
              "<keras.callbacks.History at 0x7f7904567210>"
            ]
          },
          "metadata": {},
          "execution_count": 54
        }
      ]
    },
    {
      "cell_type": "markdown",
      "metadata": {
        "id": "e6WP_ijWmiGe"
      },
      "source": [
        "# ***Testing the MODEL***"
      ]
    },
    {
      "cell_type": "code",
      "metadata": {
        "colab": {
          "base_uri": "https://localhost:8080/",
          "height": 203
        },
        "id": "A-9HBROamiGe",
        "outputId": "ca55b175-4a21-4b9a-8dd2-cecc0eb2765f"
      },
      "source": [
        "past_60_days = data_training.tail(60)\n",
        "df= past_60_days.append(data_test, ignore_index = True)\n",
        "df = df.drop(['Date', 'Adj Close'], axis = 1)\n",
        "df.head()"
      ],
      "execution_count": null,
      "outputs": [
        {
          "output_type": "execute_result",
          "data": {
            "text/html": [
              "<div>\n",
              "<style scoped>\n",
              "    .dataframe tbody tr th:only-of-type {\n",
              "        vertical-align: middle;\n",
              "    }\n",
              "\n",
              "    .dataframe tbody tr th {\n",
              "        vertical-align: top;\n",
              "    }\n",
              "\n",
              "    .dataframe thead th {\n",
              "        text-align: right;\n",
              "    }\n",
              "</style>\n",
              "<table border=\"1\" class=\"dataframe\">\n",
              "  <thead>\n",
              "    <tr style=\"text-align: right;\">\n",
              "      <th></th>\n",
              "      <th>Open</th>\n",
              "      <th>High</th>\n",
              "      <th>Low</th>\n",
              "      <th>Close</th>\n",
              "      <th>Volume</th>\n",
              "    </tr>\n",
              "  </thead>\n",
              "  <tbody>\n",
              "    <tr>\n",
              "      <th>0</th>\n",
              "      <td>57825.863281</td>\n",
              "      <td>57902.593750</td>\n",
              "      <td>56141.906250</td>\n",
              "      <td>56631.078125</td>\n",
              "      <td>3.817741e+10</td>\n",
              "    </tr>\n",
              "    <tr>\n",
              "      <th>1</th>\n",
              "      <td>56620.273438</td>\n",
              "      <td>58973.308594</td>\n",
              "      <td>56590.871094</td>\n",
              "      <td>57200.292969</td>\n",
              "      <td>5.171314e+10</td>\n",
              "    </tr>\n",
              "    <tr>\n",
              "      <th>2</th>\n",
              "      <td>57214.179688</td>\n",
              "      <td>57214.179688</td>\n",
              "      <td>53191.425781</td>\n",
              "      <td>53333.539063</td>\n",
              "      <td>6.856471e+10</td>\n",
              "    </tr>\n",
              "    <tr>\n",
              "      <th>3</th>\n",
              "      <td>53252.164063</td>\n",
              "      <td>57911.363281</td>\n",
              "      <td>52969.054688</td>\n",
              "      <td>57424.007813</td>\n",
              "      <td>6.924132e+10</td>\n",
              "    </tr>\n",
              "    <tr>\n",
              "      <th>4</th>\n",
              "      <td>57441.308594</td>\n",
              "      <td>58363.316406</td>\n",
              "      <td>55382.507813</td>\n",
              "      <td>56396.515625</td>\n",
              "      <td>6.952329e+10</td>\n",
              "    </tr>\n",
              "  </tbody>\n",
              "</table>\n",
              "</div>"
            ],
            "text/plain": [
              "           Open          High           Low         Close        Volume\n",
              "0  57825.863281  57902.593750  56141.906250  56631.078125  3.817741e+10\n",
              "1  56620.273438  58973.308594  56590.871094  57200.292969  5.171314e+10\n",
              "2  57214.179688  57214.179688  53191.425781  53333.539063  6.856471e+10\n",
              "3  53252.164063  57911.363281  52969.054688  57424.007813  6.924132e+10\n",
              "4  57441.308594  58363.316406  55382.507813  56396.515625  6.952329e+10"
            ]
          },
          "metadata": {},
          "execution_count": 55
        }
      ]
    },
    {
      "cell_type": "code",
      "metadata": {
        "colab": {
          "base_uri": "https://localhost:8080/"
        },
        "id": "6OUjL3q_miGe",
        "outputId": "ee3454c3-ca89-4322-e49a-51c0cf7d3e6b"
      },
      "source": [
        "inputs = scaler.transform(df)\n",
        "inputs"
      ],
      "execution_count": null,
      "outputs": [
        {
          "output_type": "execute_result",
          "data": {
            "text/plain": [
              "array([[0.90942975, 0.89166409, 0.90150479, 0.89072458, 0.10867834],\n",
              "       [0.89026642, 0.9083291 , 0.90879347, 0.89977548, 0.14724949],\n",
              "       [0.8997068 , 0.88094936, 0.85360543, 0.8382915 , 0.19526938],\n",
              "       [0.83672897, 0.89180058, 0.84999536, 0.90333269, 0.19719744],\n",
              "       [0.9033171 , 0.89883495, 0.88917639, 0.88699488, 0.19800093],\n",
              "       [0.88698688, 0.90262202, 0.8881916 , 0.90225772, 0.19489699],\n",
              "       [0.90190968, 0.91597595, 0.91503301, 0.92527195, 0.1862028 ],\n",
              "       [0.9261442 , 0.9120268 , 0.90702608, 0.91618534, 0.18769515],\n",
              "       [0.91618542, 0.91682798, 0.86789223, 0.87846069, 0.20442178],\n",
              "       [0.87797878, 0.87563199, 0.87661329, 0.89189322, 0.17459195],\n",
              "       [0.89176468, 0.89223639, 0.78800389, 0.77177894, 0.21422108],\n",
              "       [0.78082914, 0.7893789 , 0.75276681, 0.78077325, 0.27550343],\n",
              "       [0.77999537, 0.79104854, 0.78342648, 0.78338643, 0.15871722],\n",
              "       [0.78273758, 0.77862112, 0.7476387 , 0.73377081, 0.1684729 ],\n",
              "       [0.73284416, 0.76430779, 0.70379294, 0.72893496, 0.1823983 ],\n",
              "       [0.7280638 , 0.71611294, 0.67528427, 0.68252811, 0.21333268],\n",
              "       [0.68152462, 0.70348865, 0.67789059, 0.67254076, 0.15999916],\n",
              "       [0.67289211, 0.66821448, 0.48816964, 0.57861613, 0.35995628],\n",
              "       [0.57447879, 0.65135619, 0.55909981, 0.63872537, 0.25145523],\n",
              "       [0.63556928, 0.64682988, 0.53581698, 0.5834221 , 0.23370141],\n",
              "       [0.58429202, 0.59482747, 0.56450695, 0.58711013, 0.1633899 ],\n",
              "       [0.58684193, 0.58639413, 0.4970311 , 0.54312807, 0.22349324],\n",
              "       [0.54184069, 0.61045544, 0.55099014, 0.60570354, 0.19183529],\n",
              "       [0.60693899, 0.60954042, 0.58395167, 0.60087358, 0.16006912],\n",
              "       [0.60053066, 0.62519393, 0.60545265, 0.61505661, 0.1462054 ],\n",
              "       [0.61522223, 0.61892988, 0.59477147, 0.60142607, 0.12302188],\n",
              "       [0.60235   , 0.5952308 , 0.55469089, 0.55786836, 0.15718613],\n",
              "       [0.55747847, 0.56997809, 0.53707477, 0.54067117, 0.12877816],\n",
              "       [0.5403631 , 0.55700001, 0.5342631 , 0.55755867, 0.09006681],\n",
              "       [0.55707214, 0.57361626, 0.54597149, 0.58386993, 0.11105045],\n",
              "       [0.58306429, 0.58028535, 0.57105596, 0.57356741, 0.09859657],\n",
              "       [0.57362447, 0.58549328, 0.57396553, 0.58772305, 0.09412685],\n",
              "       [0.5879222 , 0.6049116 , 0.59470768, 0.61369816, 0.10093701],\n",
              "       [0.61403952, 0.60123111, 0.56992988, 0.57689829, 0.1190898 ],\n",
              "       [0.57648937, 0.5806119 , 0.55666135, 0.55555245, 0.10235816],\n",
              "       [0.55516494, 0.5575565 , 0.56322272, 0.56048837, 0.08227993],\n",
              "       [0.55988041, 0.5630686 , 0.53361214, 0.52389025, 0.09587384],\n",
              "       [0.52418338, 0.51990572, 0.49519829, 0.52248981, 0.14208865],\n",
              "       [0.52144074, 0.57469209, 0.51730019, 0.58406496, 0.15368892],\n",
              "       [0.58458584, 0.58709617, 0.57203827, 0.57384841, 0.12406216],\n",
              "       [0.57357852, 0.57580221, 0.5752341 , 0.58389446, 0.11016676],\n",
              "       [0.58380106, 0.57269292, 0.55386541, 0.55556134, 0.10795689],\n",
              "       [0.55543802, 0.60248088, 0.55607196, 0.61193467, 0.11577866],\n",
              "       [0.61045486, 0.62824899, 0.61927544, 0.62975324, 0.12284505],\n",
              "       [0.63287054, 0.63318144, 0.63311015, 0.63273927, 0.1321667 ],\n",
              "       [0.62876195, 0.62106469, 0.60983918, 0.5999965 , 0.11162546],\n",
              "       [0.59971677, 0.60545198, 0.5978848 , 0.59532872, 0.1055987 ],\n",
              "       [0.59587095, 0.58480723, 0.56243174, 0.55929371, 0.10304609],\n",
              "       [0.56018659, 0.55788919, 0.55719138, 0.55656873, 0.08881641],\n",
              "       [0.55555488, 0.5516897 , 0.53282369, 0.55787935, 0.10436586],\n",
              "       [0.55679478, 0.54643137, 0.49814471, 0.49393317, 0.15037235],\n",
              "       [0.49291486, 0.50862258, 0.45914451, 0.5071143 , 0.16791241],\n",
              "       [0.50711483, 0.53136147, 0.50588361, 0.52647125, 0.13187307],\n",
              "       [0.52566612, 0.53876142, 0.51582853, 0.5414085 , 0.09427645],\n",
              "       [0.54118488, 0.54278317, 0.49903678, 0.49331441, 0.11452995],\n",
              "       [0.49247436, 0.49843001, 0.48010122, 0.5020359 , 0.10984091],\n",
              "       [0.50348763, 0.52984735, 0.51073974, 0.54120508, 0.10108203],\n",
              "       [0.54150303, 0.53862195, 0.54045387, 0.53778153, 0.09646822],\n",
              "       [0.53826733, 0.55920146, 0.54614258, 0.56057421, 0.10789201],\n",
              "       [0.5610427 , 0.55192742, 0.54344228, 0.54742529, 0.09694271],\n",
              "       [0.52354887, 0.51869486, 0.52208633, 0.52923827, 0.11025008],\n",
              "       [0.52839411, 0.5337872 , 0.53234674, 0.54150564, 0.06937281],\n",
              "       [0.54128758, 0.54979212, 0.54848021, 0.55135188, 0.07091258],\n",
              "       [0.55112329, 0.53962512, 0.52927787, 0.52683659, 0.07603397],\n",
              "       [0.52631318, 0.53579926, 0.53554854, 0.53461506, 0.07540623],\n",
              "       [0.5342954 , 0.53516313, 0.53943459, 0.52857492, 0.07054703],\n",
              "       [0.52895337, 0.51820173, 0.51173695, 0.51302475, 0.08512084],\n",
              "       [0.51261395, 0.52029337, 0.51475164, 0.52766355, 0.0780699 ],\n",
              "       [0.52770775, 0.52288916, 0.5276926 , 0.52325124, 0.06534896],\n",
              "       [0.52290473, 0.52873565, 0.53143831, 0.53469444, 0.0571902 ],\n",
              "       [0.53474581, 0.52885165, 0.52089519, 0.51745271, 0.06919482],\n",
              "       [0.51680711, 0.50916187, 0.51381879, 0.51023663, 0.05437518],\n",
              "       [0.51042315, 0.50502636, 0.50371619, 0.51214984, 0.0608029 ],\n",
              "       [0.51207674, 0.50655544, 0.4961929 , 0.49558743, 0.06058631],\n",
              "       [0.49639872, 0.49190571, 0.49497475, 0.48987604, 0.06742232],\n",
              "       [0.48933731, 0.48750939, 0.49697672, 0.49164944, 0.05373163],\n",
              "       [0.49150825, 0.49471648, 0.49683876, 0.49584311, 0.05342664],\n",
              "       [0.49573844, 0.48672983, 0.48625784, 0.4802767 , 0.05811933],\n",
              "       [0.48045141, 0.47303828, 0.46673141, 0.46420932, 0.06585161],\n",
              "       [0.46388841, 0.50021584, 0.4694138 , 0.50083406, 0.08025554],\n",
              "       [0.50112478, 0.49747767, 0.50543986, 0.50405255, 0.05561296],\n",
              "       [0.50378067, 0.51312221, 0.51051464, 0.52422168, 0.06415263],\n",
              "       [0.52425032, 0.52726774, 0.53270656, 0.53552537, 0.06162408],\n",
              "       [0.53532246, 0.54087933, 0.54012532, 0.55234418, 0.05932156],\n",
              "       [0.55270786, 0.62079852, 0.56294242, 0.58394434, 0.1452804 ],\n",
              "       [0.58278202, 0.60379079, 0.58168367, 0.61684928, 0.09990153],\n",
              "       [0.6181835 , 0.625723  , 0.62098252, 0.62621422, 0.11017436],\n",
              "       [0.62600826, 0.62225214, 0.62893124, 0.62641323, 0.07730372],\n",
              "       [0.62651741, 0.64781627, 0.61343219, 0.661826  , 0.09413231],\n",
              "       [0.66099167, 0.64775249, 0.65748392, 0.65213691, 0.07341604],\n",
              "       [0.64930123, 0.65258103, 0.63199765, 0.62588012, 0.07593961],\n",
              "       [0.62460642, 0.61954564, 0.61909787, 0.61358971, 0.07282452],\n",
              "       [0.61302091, 0.60913077, 0.60344307, 0.59691047, 0.07451878],\n",
              "       [0.59768073, 0.6122789 , 0.60031166, 0.62226446, 0.07218991],\n",
              "       [0.6220195 , 0.63390773, 0.59818235, 0.64010581, 0.10015133],\n",
              "       [0.63984384, 0.66394273, 0.63834918, 0.67106355, 0.10881819],\n",
              "       [0.67110897, 0.68601611, 0.68196112, 0.69871959, 0.11395991],\n",
              "       [0.69879304, 0.69523788, 0.69354185, 0.68667192, 0.10333611],\n",
              "       [0.68635471, 0.71351794, 0.68569701, 0.72749347, 0.11026462],\n",
              "       [0.72591711, 0.71633753, 0.71584218, 0.71508504, 0.09548083],\n",
              "       [0.71509005, 0.7178573 , 0.72633216, 0.71522188, 0.09768552],\n",
              "       [0.71472725, 0.70997048, 0.70213855, 0.69669207, 0.09598692],\n",
              "       [0.6966512 , 0.73492121, 0.7089728 , 0.75019832, 0.09034657],\n",
              "       [0.75023453, 0.73907234, 0.73974052, 0.73912549, 0.08882802],\n",
              "       [0.7388849 , 0.72753014, 0.73003164, 0.73833139, 0.08819428],\n",
              "       [0.73766562, 0.73750678, 0.73199163, 0.72175463, 0.0932891 ],\n",
              "       [0.72044289, 0.72414434, 0.71270672, 0.70093867, 0.0952111 ],\n",
              "       [0.70057829, 0.70566152, 0.71029768, 0.7026214 , 0.0916285 ],\n",
              "       [0.70145465, 0.72151694, 0.70436057, 0.7330933 , 0.10590543],\n",
              "       [0.73294723, 0.75842615, 0.74742061, 0.77477845, 0.09878876],\n",
              "       [0.7743381 , 0.76426073, 0.77439398, 0.76788259, 0.11553956],\n",
              "       [0.76705851, 0.76044107, 0.77257154, 0.77449982, 0.07218539],\n",
              "       [0.77377543, 0.77616839, 0.78677121, 0.77806946, 0.09764376],\n",
              "       [0.77807787, 0.76677827, 0.76424614, 0.74881173, 0.10065325],\n",
              "       [0.74890838, 0.75625845, 0.75574735, 0.76876185, 0.09291715],\n",
              "       [0.7691811 , 0.75851066, 0.74344438, 0.73666523, 0.09297471],\n",
              "       [0.73567223, 0.7548562 , 0.74325769, 0.77031819, 0.09823084],\n",
              "       [0.77029291, 0.75751333, 0.77743046, 0.76783346, 0.08129586],\n",
              "       [0.76772841, 0.76312599, 0.76812192, 0.76667955, 0.0736634 ],\n",
              "       [0.76651403, 0.75194286, 0.7522839 , 0.73845828, 0.09063936],\n",
              "       [0.73773522, 0.74048663, 0.7490341 , 0.74023444, 0.09885572],\n",
              "       [0.73893427, 0.75482981, 0.74598761, 0.76695296, 0.11141962],\n",
              "       [0.76608479, 0.77401029, 0.77991565, 0.77459634, 0.11247017],\n",
              "       [0.77372098, 0.78395362, 0.77559349, 0.78568948, 0.12300823],\n",
              "       [0.78518274, 0.77715679, 0.79446918, 0.7844055 , 0.10666631],\n",
              "       [0.78404678, 0.79774998, 0.79430386, 0.8131664 , 0.08629566],\n",
              "       [0.81315355, 0.81070361, 0.81890035, 0.82716097, 0.11069214],\n",
              "       [0.82732393, 0.81308223, 0.69278365, 0.73458082, 0.18571005],\n",
              "       [0.73461053, 0.72717137, 0.71350182, 0.7231365 , 0.13954031],\n",
              "       [0.71787237, 0.72604909, 0.73149515, 0.72790719, 0.1100896 ],\n",
              "       [0.72775806, 0.72246606, 0.70998041, 0.70393675, 0.11146312],\n",
              "       [0.70348858, 0.7059297 , 0.71767198, 0.70898596, 0.09819881],\n",
              "       [0.70884198, 0.71208675, 0.71722058, 0.72268935, 0.0793407 ],\n",
              "       [0.72236238, 0.71572571, 0.69775322, 0.70519551, 0.1166359 ],\n",
              "       [0.70492252, 0.72536699, 0.71660158, 0.73905468, 0.11003117],\n",
              "       [0.73890608, 0.74454765, 0.74941129, 0.75628871, 0.08675678],\n",
              "       [0.75576961, 0.74511357, 0.75438277, 0.75003993, 0.09040366],\n",
              "       [0.74960374, 0.74004104, 0.7503723 , 0.74183773, 0.08175068],\n",
              "       [0.74169615, 0.74985997, 0.75450821, 0.75791083, 0.08131731],\n",
              "       [0.75751729, 0.74264722, 0.75178926, 0.74172165, 0.07673545],\n",
              "       [0.74150348, 0.72708023, 0.68164208, 0.67149765, 0.12501338],\n",
              "       [0.6739612 , 0.66917157, 0.63600216, 0.63730922, 0.13866642],\n",
              "       [0.63685687, 0.67494613, 0.64960699, 0.68311638, 0.10857092],\n",
              "       [0.68267287, 0.68994326, 0.68992855, 0.70411464, 0.09746997],\n",
              "       [0.7038774 , 0.69209607, 0.65465469, 0.67143324, 0.12196291],\n",
              "       [0.67123762, 0.65965626, 0.66802152, 0.66947497, 0.08994894],\n",
              "       [0.66934191, 0.67402285, 0.65322448, 0.67729723, 0.08726037],\n",
              "       [0.67748917, 0.68015436, 0.67501387, 0.66182892, 0.08816884],\n",
              "       [0.66106469, 0.65621477, 0.65457523, 0.64272924, 0.08598866],\n",
              "       [0.64300888, 0.65263673, 0.65291938, 0.65115373, 0.08709264],\n",
              "       [0.65073858, 0.67672017, 0.66290216, 0.68655707, 0.08862948],\n",
              "       [0.68674917, 0.74432264, 0.69334887, 0.75534411, 0.1219951 ],\n",
              "       [0.75542885, 0.74192652, 0.76064824, 0.74889713, 0.0871268 ],\n",
              "       [0.74815763, 0.7551349 , 0.75564468, 0.75666405, 0.07579621],\n",
              "       [0.75656438, 0.76021022, 0.7538218 , 0.77118055, 0.09501679],\n",
              "       [0.7719202 , 0.79730335, 0.78674255, 0.80937253, 0.10211433],\n",
              "       [0.80783704, 0.80717433, 0.81060975, 0.82430165, 0.11737632]])"
            ]
          },
          "metadata": {},
          "execution_count": 56
        }
      ]
    },
    {
      "cell_type": "code",
      "metadata": {
        "id": "O2UFnei_miGf"
      },
      "source": [
        "X_test = []\n",
        "Y_test = []\n",
        "for i in range (60, inputs.shape[0]):\n",
        "    X_test.append(inputs[i-60:i])\n",
        "    Y_test.append(inputs[i, 0])"
      ],
      "execution_count": null,
      "outputs": []
    },
    {
      "cell_type": "code",
      "metadata": {
        "colab": {
          "base_uri": "https://localhost:8080/"
        },
        "id": "_WGZ6K2imiGf",
        "outputId": "abd5c83d-6f4a-4c9f-9aae-17aa994576a3"
      },
      "source": [
        "X_test, Y_test = np.array(X_test), np.array(Y_test)\n",
        "X_test.shape, Y_test.shape"
      ],
      "execution_count": null,
      "outputs": [
        {
          "output_type": "execute_result",
          "data": {
            "text/plain": [
              "((97, 60, 5), (97,))"
            ]
          },
          "metadata": {},
          "execution_count": 58
        }
      ]
    },
    {
      "cell_type": "code",
      "metadata": {
        "colab": {
          "base_uri": "https://localhost:8080/"
        },
        "id": "rQJrXDp1miGf",
        "outputId": "22e6ebba-c2d4-478a-e2d2-8cb13b2cdd62"
      },
      "source": [
        "Y_pred = regressor.predict(X_test)\n",
        "Y_pred, Y_test"
      ],
      "execution_count": null,
      "outputs": [
        {
          "output_type": "execute_result",
          "data": {
            "text/plain": [
              "(array([[0.55548483],\n",
              "        [0.55407965],\n",
              "        [0.5543958 ],\n",
              "        [0.5561341 ],\n",
              "        [0.5588131 ],\n",
              "        [0.5618968 ],\n",
              "        [0.56495875],\n",
              "        [0.56747204],\n",
              "        [0.5691117 ],\n",
              "        [0.5698636 ],\n",
              "        [0.56992644],\n",
              "        [0.56948507],\n",
              "        [0.56852776],\n",
              "        [0.5670163 ],\n",
              "        [0.56489956],\n",
              "        [0.56208396],\n",
              "        [0.5585813 ],\n",
              "        [0.55458343],\n",
              "        [0.55025166],\n",
              "        [0.5455433 ],\n",
              "        [0.5406435 ],\n",
              "        [0.5360783 ],\n",
              "        [0.5324772 ],\n",
              "        [0.5304209 ],\n",
              "        [0.5303035 ],\n",
              "        [0.53269964],\n",
              "        [0.53783375],\n",
              "        [0.54577124],\n",
              "        [0.5561407 ],\n",
              "        [0.56846184],\n",
              "        [0.5821688 ],\n",
              "        [0.5964519 ],\n",
              "        [0.61025846],\n",
              "        [0.6224927 ],\n",
              "        [0.63249195],\n",
              "        [0.64025074],\n",
              "        [0.6464486 ],\n",
              "        [0.6520736 ],\n",
              "        [0.657871  ],\n",
              "        [0.66434366],\n",
              "        [0.6717252 ],\n",
              "        [0.67990047],\n",
              "        [0.6883881 ],\n",
              "        [0.6968996 ],\n",
              "        [0.7053443 ],\n",
              "        [0.7134961 ],\n",
              "        [0.7210581 ],\n",
              "        [0.72747266],\n",
              "        [0.73220724],\n",
              "        [0.7352047 ],\n",
              "        [0.7372537 ],\n",
              "        [0.73921895],\n",
              "        [0.7415843 ],\n",
              "        [0.7446671 ],\n",
              "        [0.74829847],\n",
              "        [0.75207454],\n",
              "        [0.7555115 ],\n",
              "        [0.7582561 ],\n",
              "        [0.760409  ],\n",
              "        [0.76210904],\n",
              "        [0.76325434],\n",
              "        [0.76361346],\n",
              "        [0.7632429 ],\n",
              "        [0.762619  ],\n",
              "        [0.7622349 ],\n",
              "        [0.76248014],\n",
              "        [0.7636709 ],\n",
              "        [0.76613164],\n",
              "        [0.7690461 ],\n",
              "        [0.7709468 ],\n",
              "        [0.7709373 ],\n",
              "        [0.7686215 ],\n",
              "        [0.764089  ],\n",
              "        [0.75795716],\n",
              "        [0.7509035 ],\n",
              "        [0.74379605],\n",
              "        [0.7377274 ],\n",
              "        [0.73343366],\n",
              "        [0.73113877],\n",
              "        [0.7307989 ],\n",
              "        [0.73209155],\n",
              "        [0.7338817 ],\n",
              "        [0.7343838 ],\n",
              "        [0.7326485 ],\n",
              "        [0.72899663],\n",
              "        [0.72394073],\n",
              "        [0.7179322 ],\n",
              "        [0.71150506],\n",
              "        [0.7052146 ],\n",
              "        [0.6992041 ],\n",
              "        [0.6935301 ],\n",
              "        [0.68858355],\n",
              "        [0.6853823 ],\n",
              "        [0.6847588 ],\n",
              "        [0.6870241 ],\n",
              "        [0.69210017],\n",
              "        [0.6998624 ]], dtype=float32),\n",
              " array([0.52354887, 0.52839411, 0.54128758, 0.55112329, 0.52631318,\n",
              "        0.5342954 , 0.52895337, 0.51261395, 0.52770775, 0.52290473,\n",
              "        0.53474581, 0.51680711, 0.51042315, 0.51207674, 0.49639872,\n",
              "        0.48933731, 0.49150825, 0.49573844, 0.48045141, 0.46388841,\n",
              "        0.50112478, 0.50378067, 0.52425032, 0.53532246, 0.55270786,\n",
              "        0.58278202, 0.6181835 , 0.62600826, 0.62651741, 0.66099167,\n",
              "        0.64930123, 0.62460642, 0.61302091, 0.59768073, 0.6220195 ,\n",
              "        0.63984384, 0.67110897, 0.69879304, 0.68635471, 0.72591711,\n",
              "        0.71509005, 0.71472725, 0.6966512 , 0.75023453, 0.7388849 ,\n",
              "        0.73766562, 0.72044289, 0.70057829, 0.70145465, 0.73294723,\n",
              "        0.7743381 , 0.76705851, 0.77377543, 0.77807787, 0.74890838,\n",
              "        0.7691811 , 0.73567223, 0.77029291, 0.76772841, 0.76651403,\n",
              "        0.73773522, 0.73893427, 0.76608479, 0.77372098, 0.78518274,\n",
              "        0.78404678, 0.81315355, 0.82732393, 0.73461053, 0.71787237,\n",
              "        0.72775806, 0.70348858, 0.70884198, 0.72236238, 0.70492252,\n",
              "        0.73890608, 0.75576961, 0.74960374, 0.74169615, 0.75751729,\n",
              "        0.74150348, 0.6739612 , 0.63685687, 0.68267287, 0.7038774 ,\n",
              "        0.67123762, 0.66934191, 0.67748917, 0.66106469, 0.64300888,\n",
              "        0.65073858, 0.68674917, 0.75542885, 0.74815763, 0.75656438,\n",
              "        0.7719202 , 0.80783704]))"
            ]
          },
          "metadata": {},
          "execution_count": 59
        }
      ]
    },
    {
      "cell_type": "code",
      "metadata": {
        "colab": {
          "base_uri": "https://localhost:8080/"
        },
        "id": "7ZUgutGvmiGf",
        "scrolled": true,
        "outputId": "dfe9284f-aea0-424a-a40e-8f6169838740"
      },
      "source": [
        "scaler.scale_"
      ],
      "execution_count": null,
      "outputs": [
        {
          "output_type": "execute_result",
          "data": {
            "text/plain": [
              "array([1.58953996e-05, 1.55643771e-05, 1.62344262e-05, 1.59006689e-05,\n",
              "       2.84958002e-12])"
            ]
          },
          "metadata": {},
          "execution_count": 60
        }
      ]
    },
    {
      "cell_type": "code",
      "metadata": {
        "colab": {
          "base_uri": "https://localhost:8080/"
        },
        "id": "2KUEE-oTmiGf",
        "outputId": "34da37b0-81e0-4912-dc41-de9fe0689419"
      },
      "source": [
        "scale = 1/5.18164146e-05\n",
        "scale"
      ],
      "execution_count": null,
      "outputs": [
        {
          "output_type": "execute_result",
          "data": {
            "text/plain": [
              "19298.903787912797"
            ]
          },
          "metadata": {},
          "execution_count": 61
        }
      ]
    },
    {
      "cell_type": "code",
      "metadata": {
        "id": "75HUEpGUmiGg"
      },
      "source": [
        "Y_test = Y_test*scale\n",
        "Y_pred = Y_pred*scale"
      ],
      "execution_count": null,
      "outputs": []
    },
    {
      "cell_type": "code",
      "metadata": {
        "id": "iurR7AND_a7A"
      },
      "source": [
        "Y_Pred=Y_pred+35000\n",
        "Y_Test=Y_test+35000"
      ],
      "execution_count": null,
      "outputs": []
    },
    {
      "cell_type": "code",
      "metadata": {
        "colab": {
          "base_uri": "https://localhost:8080/"
        },
        "id": "mwFW8ZyrmiGg",
        "outputId": "ed40b37a-9fea-4115-cbaa-99dc9c11829b"
      },
      "source": [
        "Y_Pred"
      ],
      "execution_count": null,
      "outputs": [
        {
          "output_type": "execute_result",
          "data": {
            "text/plain": [
              "array([[45720.25 ],\n",
              "       [45693.13 ],\n",
              "       [45699.23 ],\n",
              "       [45732.78 ],\n",
              "       [45784.48 ],\n",
              "       [45843.992],\n",
              "       [45903.086],\n",
              "       [45951.59 ],\n",
              "       [45983.234],\n",
              "       [45997.742],\n",
              "       [45998.957],\n",
              "       [45990.438],\n",
              "       [45971.96 ],\n",
              "       [45942.793],\n",
              "       [45901.94 ],\n",
              "       [45847.605],\n",
              "       [45780.008],\n",
              "       [45702.85 ],\n",
              "       [45619.254],\n",
              "       [45528.39 ],\n",
              "       [45433.83 ],\n",
              "       [45345.723],\n",
              "       [45276.227],\n",
              "       [45236.543],\n",
              "       [45234.277],\n",
              "       [45280.52 ],\n",
              "       [45379.6  ],\n",
              "       [45532.79 ],\n",
              "       [45732.906],\n",
              "       [45970.69 ],\n",
              "       [46235.22 ],\n",
              "       [46510.867],\n",
              "       [46777.32 ],\n",
              "       [47013.426],\n",
              "       [47206.402],\n",
              "       [47356.137],\n",
              "       [47475.75 ],\n",
              "       [47584.305],\n",
              "       [47696.188],\n",
              "       [47821.105],\n",
              "       [47963.562],\n",
              "       [48121.336],\n",
              "       [48285.137],\n",
              "       [48449.4  ],\n",
              "       [48612.37 ],\n",
              "       [48769.69 ],\n",
              "       [48915.633],\n",
              "       [49039.426],\n",
              "       [49130.797],\n",
              "       [49188.645],\n",
              "       [49228.188],\n",
              "       [49266.117],\n",
              "       [49311.766],\n",
              "       [49371.258],\n",
              "       [49441.34 ],\n",
              "       [49514.215],\n",
              "       [49580.547],\n",
              "       [49633.51 ],\n",
              "       [49675.062],\n",
              "       [49707.867],\n",
              "       [49729.973],\n",
              "       [49736.902],\n",
              "       [49729.75 ],\n",
              "       [49717.71 ],\n",
              "       [49710.297],\n",
              "       [49715.03 ],\n",
              "       [49738.01 ],\n",
              "       [49785.5  ],\n",
              "       [49841.75 ],\n",
              "       [49878.43 ],\n",
              "       [49878.246],\n",
              "       [49833.555],\n",
              "       [49746.08 ],\n",
              "       [49627.742],\n",
              "       [49491.613],\n",
              "       [49354.45 ],\n",
              "       [49237.33 ],\n",
              "       [49154.465],\n",
              "       [49110.176],\n",
              "       [49103.617],\n",
              "       [49128.562],\n",
              "       [49163.113],\n",
              "       [49172.805],\n",
              "       [49139.312],\n",
              "       [49068.836],\n",
              "       [48971.26 ],\n",
              "       [48855.305],\n",
              "       [48731.266],\n",
              "       [48609.867],\n",
              "       [48493.875],\n",
              "       [48384.37 ],\n",
              "       [48288.906],\n",
              "       [48227.13 ],\n",
              "       [48215.094],\n",
              "       [48258.812],\n",
              "       [48356.773],\n",
              "       [48506.58 ]], dtype=float32)"
            ]
          },
          "metadata": {},
          "execution_count": 64
        }
      ]
    },
    {
      "cell_type": "code",
      "metadata": {
        "colab": {
          "base_uri": "https://localhost:8080/"
        },
        "id": "kZBXURfVmiGg",
        "outputId": "d5778a43-f638-4ab1-f2b0-52dc1b3f0e42"
      },
      "source": [
        "Y_Test"
      ],
      "execution_count": null,
      "outputs": [
        {
          "output_type": "execute_result",
          "data": {
            "text/plain": [
              "array([45103.91926352, 45197.42709719, 45446.25686639, 45636.07534856,\n",
              "       45157.26740359, 45311.31555035, 45208.22014977, 44892.88734634,\n",
              "       45184.18113283, 45091.48814017, 45320.00798973, 44973.81067506,\n",
              "       44850.60726768, 44882.51968893, 44579.951135  , 44443.67371878,\n",
              "       44485.5703427 , 44567.20845497, 44272.18557118, 43952.53770375,\n",
              "       44671.15883967, 44722.41475467, 45117.4564139 , 45331.1365652 ,\n",
              "       45666.65586371, 46247.05414943, 46930.26383964, 47081.27310762,\n",
              "       47091.09913522, 47756.41467062, 47530.80188712, 47054.21917782,\n",
              "       46830.6315148 , 46534.58288959, 47004.29456949, 47348.284623  ,\n",
              "       47951.66742514, 48485.93970115, 48245.89344183, 49009.40454503,\n",
              "       48800.45406831, 48793.45242443, 48444.6044789 , 49478.7040111 ,\n",
              "       49259.66867484, 49236.13773542, 48903.75797225, 48520.39310913,\n",
              "       48537.30585971, 49145.07802035, 49943.87654558, 49803.3883169 ,\n",
              "       49933.01758664, 50016.0499164 , 49453.11080426, 49844.35206722,\n",
              "       49197.66763909, 49865.80875641, 49816.31673288, 49792.88045893,\n",
              "       49237.48102521, 49260.62132027, 49784.59663812, 49931.96668108,\n",
              "       50153.16614016, 50131.24331388, 50692.97214717, 50966.44487483,\n",
              "       49177.17797488, 48854.14971438, 49044.93282479, 48576.55844328,\n",
              "       48679.8731318 , 48940.80209643, 48604.23189206, 49260.07729371,\n",
              "       49585.52491401, 49466.53052147, 49313.92272671, 49619.25335296,\n",
              "       49310.204414  , 48006.7123524 , 47290.63939315, 48174.83808114,\n",
              "       48584.06217298, 47954.15029455, 47917.56511783, 48074.79833564,\n",
              "       47757.82386677, 47409.3665656 , 47558.54124226, 48253.50621685,\n",
              "       49578.9486653 , 49438.62220666, 49600.86310343, 49897.21369924,\n",
              "       50590.36924635])"
            ]
          },
          "metadata": {},
          "execution_count": 65
        }
      ]
    },
    {
      "cell_type": "code",
      "metadata": {
        "colab": {
          "base_uri": "https://localhost:8080/"
        },
        "id": "Za9-_EaeLJWL",
        "outputId": "9b5c4b15-b8b7-40de-cf40-8bfd73cfdb3d"
      },
      "source": [
        "Y_Pred.shape"
      ],
      "execution_count": null,
      "outputs": [
        {
          "output_type": "execute_result",
          "data": {
            "text/plain": [
              "(97, 1)"
            ]
          },
          "metadata": {},
          "execution_count": 66
        }
      ]
    },
    {
      "cell_type": "code",
      "metadata": {
        "colab": {
          "base_uri": "https://localhost:8080/"
        },
        "id": "-uKXZzQeLuiZ",
        "outputId": "d24062bd-5d76-4b15-bfac-3a7e3a9dfa3d"
      },
      "source": [
        "Y_Pred[96]"
      ],
      "execution_count": null,
      "outputs": [
        {
          "output_type": "execute_result",
          "data": {
            "text/plain": [
              "array([48506.58], dtype=float32)"
            ]
          },
          "metadata": {},
          "execution_count": 67
        }
      ]
    },
    {
      "cell_type": "code",
      "metadata": {
        "colab": {
          "base_uri": "https://localhost:8080/"
        },
        "id": "rRIJsi3OMhBt",
        "outputId": "ddf2a680-80c6-4810-cb3b-d5712070b24f"
      },
      "source": [
        "Y_Test[96]"
      ],
      "execution_count": null,
      "outputs": [
        {
          "output_type": "execute_result",
          "data": {
            "text/plain": [
              "50590.36924634572"
            ]
          },
          "metadata": {},
          "execution_count": 68
        }
      ]
    },
    {
      "cell_type": "code",
      "metadata": {
        "colab": {
          "base_uri": "https://localhost:8080/",
          "height": 350
        },
        "id": "wca68r69miGg",
        "outputId": "524e0451-481b-44b5-b650-3fe2f6bc4517"
      },
      "source": [
        "plt.figure(figsize=(14,5))\n",
        "plt.plot(Y_Test, color = 'red', label = 'Real Bitcoin Price')\n",
        "plt.plot(Y_Pred, color = 'green', label = 'Predicted Bitcoin Price')\n",
        "plt.title('Bitcoin Price Prediction')\n",
        "plt.xlabel('Time(DAYS)')\n",
        "plt.ylabel('Price(USD)')\n",
        "plt.legend()\n",
        "plt.show()"
      ],
      "execution_count": null,
      "outputs": [
        {
          "output_type": "display_data",
          "data": {
            "image/png": "[encoded data removed]",
            "text/plain": [
              "<Figure size 1008x360 with 1 Axes>"
            ]
          },
          "metadata": {
            "needs_background": "light"
          }
        }
      ]
    },
    {
      "cell_type": "markdown",
      "metadata": {
        "id": "UUMvRLigmwXS"
      },
      "source": [
        "#***PICKLE***"
      ]
    },
    {
      "cell_type": "code",
      "metadata": {
        "id": "liYyTZ6wmxcG"
      },
      "source": [
        "import pickle\n",
        "import joblib\n"
      ],
      "execution_count": null,
      "outputs": []
    },
    {
      "cell_type": "code",
      "metadata": {
        "colab": {
          "base_uri": "https://localhost:8080/"
        },
        "id": "qJOXNhA4nq1f",
        "outputId": "77b4b950-26e3-42d1-bfba-9b23925edabe"
      },
      "source": [
        "\n",
        "# open a file, where you want to store the data\n",
        "#file = open('btc_model.pkl', 'wb')\n",
        "\n",
        "# dump information to that file\n",
        "joblib.dump('wb','btc_model.pkl')"
      ],
      "execution_count": null,
      "outputs": [
        {
          "output_type": "execute_result",
          "data": {
            "text/plain": [
              "['btc_model.pkl']"
            ]
          },
          "metadata": {},
          "execution_count": 62
        }
      ]
    }
  ]
}